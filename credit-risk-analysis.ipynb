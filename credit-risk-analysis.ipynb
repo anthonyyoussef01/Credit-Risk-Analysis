{
 "cells": [
  {
   "cell_type": "markdown",
   "metadata": {},
   "source": [
    "# Import Required Libraries\n",
    "Import the necessary libraries, including pandas."
   ]
  },
  {
   "cell_type": "code",
   "execution_count": 14,
   "metadata": {},
   "outputs": [],
   "source": [
    "# Import Required Libraries\n",
    "import pandas as pd"
   ]
  },
  {
   "cell_type": "markdown",
   "metadata": {},
   "source": [
    "# Load Dataset\n",
    "Load the dataset and display first few rows of the dataset"
   ]
  },
  {
   "cell_type": "code",
   "execution_count": 15,
   "metadata": {},
   "outputs": [
    {
     "data": {
      "text/html": [
       "<div>\n",
       "<style scoped>\n",
       "    .dataframe tbody tr th:only-of-type {\n",
       "        vertical-align: middle;\n",
       "    }\n",
       "\n",
       "    .dataframe tbody tr th {\n",
       "        vertical-align: top;\n",
       "    }\n",
       "\n",
       "    .dataframe thead th {\n",
       "        text-align: right;\n",
       "    }\n",
       "</style>\n",
       "<table border=\"1\" class=\"dataframe\">\n",
       "  <thead>\n",
       "    <tr style=\"text-align: right;\">\n",
       "      <th></th>\n",
       "      <th>age</th>\n",
       "      <th>ed</th>\n",
       "      <th>employ</th>\n",
       "      <th>address</th>\n",
       "      <th>income</th>\n",
       "      <th>debtinc</th>\n",
       "      <th>creddebt</th>\n",
       "      <th>othdebt</th>\n",
       "      <th>default</th>\n",
       "    </tr>\n",
       "  </thead>\n",
       "  <tbody>\n",
       "    <tr>\n",
       "      <th>0</th>\n",
       "      <td>41</td>\n",
       "      <td>3</td>\n",
       "      <td>17</td>\n",
       "      <td>12</td>\n",
       "      <td>176</td>\n",
       "      <td>9.3</td>\n",
       "      <td>11.359392</td>\n",
       "      <td>5.008608</td>\n",
       "      <td>1.0</td>\n",
       "    </tr>\n",
       "    <tr>\n",
       "      <th>1</th>\n",
       "      <td>27</td>\n",
       "      <td>1</td>\n",
       "      <td>10</td>\n",
       "      <td>6</td>\n",
       "      <td>31</td>\n",
       "      <td>17.3</td>\n",
       "      <td>1.362202</td>\n",
       "      <td>4.000798</td>\n",
       "      <td>0.0</td>\n",
       "    </tr>\n",
       "    <tr>\n",
       "      <th>2</th>\n",
       "      <td>40</td>\n",
       "      <td>1</td>\n",
       "      <td>15</td>\n",
       "      <td>14</td>\n",
       "      <td>55</td>\n",
       "      <td>5.5</td>\n",
       "      <td>0.856075</td>\n",
       "      <td>2.168925</td>\n",
       "      <td>0.0</td>\n",
       "    </tr>\n",
       "    <tr>\n",
       "      <th>3</th>\n",
       "      <td>41</td>\n",
       "      <td>1</td>\n",
       "      <td>15</td>\n",
       "      <td>14</td>\n",
       "      <td>120</td>\n",
       "      <td>2.9</td>\n",
       "      <td>2.658720</td>\n",
       "      <td>0.821280</td>\n",
       "      <td>0.0</td>\n",
       "    </tr>\n",
       "    <tr>\n",
       "      <th>4</th>\n",
       "      <td>24</td>\n",
       "      <td>2</td>\n",
       "      <td>2</td>\n",
       "      <td>0</td>\n",
       "      <td>28</td>\n",
       "      <td>17.3</td>\n",
       "      <td>1.787436</td>\n",
       "      <td>3.056564</td>\n",
       "      <td>1.0</td>\n",
       "    </tr>\n",
       "  </tbody>\n",
       "</table>\n",
       "</div>"
      ],
      "text/plain": [
       "   age  ed  employ  address  income  debtinc   creddebt   othdebt  default\n",
       "0   41   3      17       12     176      9.3  11.359392  5.008608      1.0\n",
       "1   27   1      10        6      31     17.3   1.362202  4.000798      0.0\n",
       "2   40   1      15       14      55      5.5   0.856075  2.168925      0.0\n",
       "3   41   1      15       14     120      2.9   2.658720  0.821280      0.0\n",
       "4   24   2       2        0      28     17.3   1.787436  3.056564      1.0"
      ]
     },
     "execution_count": 15,
     "metadata": {},
     "output_type": "execute_result"
    }
   ],
   "source": [
    "# Load Dataset\n",
    "df = pd.read_csv('credit-risk-analysis-for-extending-bank-loans\\\\bankloans.csv')\n",
    "df.head()  # Display the first few rows of the dataset"
   ]
  },
  {
   "cell_type": "code",
   "execution_count": 16,
   "metadata": {},
   "outputs": [
    {
     "name": "stdout",
     "output_type": "stream",
     "text": [
      "<class 'pandas.core.frame.DataFrame'>\n",
      "RangeIndex: 1150 entries, 0 to 1149\n",
      "Data columns (total 9 columns):\n",
      " #   Column    Non-Null Count  Dtype  \n",
      "---  ------    --------------  -----  \n",
      " 0   age       1150 non-null   int64  \n",
      " 1   ed        1150 non-null   int64  \n",
      " 2   employ    1150 non-null   int64  \n",
      " 3   address   1150 non-null   int64  \n",
      " 4   income    1150 non-null   int64  \n",
      " 5   debtinc   1150 non-null   float64\n",
      " 6   creddebt  1150 non-null   float64\n",
      " 7   othdebt   1150 non-null   float64\n",
      " 8   default   700 non-null    float64\n",
      "dtypes: float64(4), int64(5)\n",
      "memory usage: 81.0 KB\n"
     ]
    }
   ],
   "source": [
    "df.info()  # Display the information about the dataset"
   ]
  },
  {
   "cell_type": "markdown",
   "metadata": {},
   "source": [
    "# Data Preprocessing"
   ]
  },
  {
   "cell_type": "code",
   "execution_count": 17,
   "metadata": {},
   "outputs": [
    {
     "name": "stdout",
     "output_type": "stream",
     "text": [
      "<class 'pandas.core.frame.DataFrame'>\n",
      "Index: 700 entries, 0 to 699\n",
      "Data columns (total 9 columns):\n",
      " #   Column    Non-Null Count  Dtype  \n",
      "---  ------    --------------  -----  \n",
      " 0   age       700 non-null    int64  \n",
      " 1   ed        700 non-null    int64  \n",
      " 2   employ    700 non-null    int64  \n",
      " 3   address   700 non-null    int64  \n",
      " 4   income    700 non-null    int64  \n",
      " 5   debtinc   700 non-null    float64\n",
      " 6   creddebt  700 non-null    float64\n",
      " 7   othdebt   700 non-null    float64\n",
      " 8   default   700 non-null    float64\n",
      "dtypes: float64(4), int64(5)\n",
      "memory usage: 54.7 KB\n"
     ]
    }
   ],
   "source": [
    "# Drop rows with missing values\n",
    "df = df.dropna()\n",
    "df.info()\n",
    "# these are actually the rows without any label, they are not useful for our analysis though"
   ]
  },
  {
   "cell_type": "markdown",
   "metadata": {},
   "source": [
    "# Adaboost\n",
    "We'll use cross validation to determine n_estimators"
   ]
  },
  {
   "cell_type": "code",
   "execution_count": 18,
   "metadata": {},
   "outputs": [
    {
     "name": "stdout",
     "output_type": "stream",
     "text": [
      "Best Parameters: {'learning_rate': 0.5, 'n_estimators': 200}\n",
      "Best Cross-Validation Accuracy: 0.8089285714285713\n"
     ]
    }
   ],
   "source": [
    "from sklearn.ensemble import AdaBoostClassifier\n",
    "from sklearn.model_selection import train_test_split\n",
    "from sklearn.metrics import accuracy_score\n",
    "from sklearn.model_selection import GridSearchCV\n",
    "\n",
    "# Define the features and the target variable\n",
    "X = df.drop('default', axis=1)\n",
    "y = df['default']\n",
    "\n",
    "# Split the data into training and testing sets\n",
    "X_train, X_test, y_train, y_test = train_test_split(X, y, test_size=0.2, random_state=42)\n",
    "\n",
    "# Define the parameter grid\n",
    "param_grid = {\n",
    "    'n_estimators': [50, 100, 200, 300, 400, 500],\n",
    "    'learning_rate': [0.0001, 0.001, 0.005, 0.01, 0.1, 0.5, 1.0, 1.5]\n",
    "}\n",
    "\n",
    "# Create a GridSearchCV object\n",
    "grid_search = GridSearchCV(estimator=AdaBoostClassifier(random_state=123, algorithm='SAMME'), param_grid=param_grid, cv=5, scoring='accuracy')\n",
    "\n",
    "# Fit the grid search to the data\n",
    "grid_search.fit(X_train, y_train)\n",
    "\n",
    "# Get the best parameters and the best score\n",
    "best_params = grid_search.best_params_\n",
    "best_score = grid_search.best_score_\n",
    "\n",
    "print('Best Parameters:', best_params)\n",
    "print('Best Cross-Validation Accuracy:', best_score)"
   ]
  },
  {
   "cell_type": "code",
   "execution_count": 19,
   "metadata": {},
   "outputs": [
    {
     "name": "stdout",
     "output_type": "stream",
     "text": [
      "Test Set Accuracy: 0.8214285714285714\n"
     ]
    }
   ],
   "source": [
    "# Get the best model\n",
    "best_model = grid_search.best_estimator_\n",
    "\n",
    "# Predict the target variable\n",
    "y_pred = best_model.predict(X_test)\n",
    "\n",
    "# Calculate the accuracy of the model\n",
    "adaboost_accuracy = accuracy_score(y_test, y_pred)\n",
    "print('Test Set Accuracy:', adaboost_accuracy)"
   ]
  },
  {
   "cell_type": "code",
   "execution_count": 20,
   "metadata": {},
   "outputs": [
    {
     "data": {
      "image/png": "[encoded data removed]",
      "text/plain": [
       "<Figure size 800x600 with 2 Axes>"
      ]
     },
     "metadata": {},
     "output_type": "display_data"
    }
   ],
   "source": [
    "# Visualize the confusion matrix\n",
    "from sklearn.metrics import confusion_matrix\n",
    "import matplotlib.pyplot as plt\n",
    "import seaborn as sns\n",
    "\n",
    "# Create a confusion matrix\n",
    "cm = confusion_matrix(y_test, y_pred)\n",
    "\n",
    "# Transform the confusion matrix into a DataFrame\n",
    "cm_df = pd.DataFrame(cm, index=['No Default', 'Default'], columns=['No Default', 'Default'])\n",
    "\n",
    "# Create a heatmap\n",
    "plt.figure(figsize=(8, 6))\n",
    "sns.heatmap(cm_df, annot=True, fmt='g', cmap='Blues')\n",
    "plt.title('AdaBoost Classifier \\nAccuracy: {:.2f}'.format(adaboost_accuracy), fontsize=14)\n",
    "plt.xlabel('Predicted', fontsize=12)\n",
    "plt.ylabel('Actual', fontsize=12)\n",
    "plt.show()"
   ]
  },
  {
   "cell_type": "markdown",
   "metadata": {},
   "source": [
    "Does Scaling even matter? (seemingly not)"
   ]
  },
  {
   "cell_type": "code",
   "execution_count": 21,
   "metadata": {},
   "outputs": [
    {
     "name": "stdout",
     "output_type": "stream",
     "text": [
      "Best Parameters: {'adaboost__learning_rate': 0.5, 'adaboost__n_estimators': 50}\n",
      "Best Cross-Validation Accuracy: 0.7803571428571429\n",
      "Test Accuracy: 0.8142857142857143\n"
     ]
    }
   ],
   "source": [
    "from sklearn.preprocessing import StandardScaler\n",
    "from sklearn.pipeline import Pipeline\n",
    "\n",
    "# stratified split to ensure equal class distribution in the training and testing sets in case of imbalanced data\n",
    "X_train, X_test, y_train, y_test = train_test_split(\n",
    "    X, y, \n",
    "    test_size=0.2, \n",
    "    random_state=42, \n",
    "    stratify=y\n",
    ")\n",
    "\n",
    "# Create a pipeline with scaling and AdaBoost\n",
    "pipeline = Pipeline([\n",
    "    ('scaler', StandardScaler()),\n",
    "    ('adaboost', AdaBoostClassifier(random_state=123, algorithm='SAMME'))\n",
    "])\n",
    "\n",
    "# Updated parameter grid (now including the estimator in the pipeline)\n",
    "param_grid = {\n",
    "    'adaboost__n_estimators': [50, 100, 200, 300, 400, 500],\n",
    "    'adaboost__learning_rate': [0.01, 0.1, 0.5, 1.0]\n",
    "}\n",
    "\n",
    "# Grid search with pipeline\n",
    "grid_search = GridSearchCV(\n",
    "    estimator=pipeline, \n",
    "    param_grid=param_grid, \n",
    "    cv=5, \n",
    "    scoring='accuracy'\n",
    ")\n",
    "\n",
    "# Fit the grid search\n",
    "grid_search.fit(X_train, y_train)\n",
    "\n",
    "# Get best parameters and score\n",
    "best_params = grid_search.best_params_\n",
    "best_score = grid_search.best_score_\n",
    "\n",
    "print('Best Parameters:', best_params)\n",
    "print('Best Cross-Validation Accuracy:', best_score)\n",
    "\n",
    "# Final model evaluation\n",
    "best_model = grid_search.best_estimator_\n",
    "y_pred = best_model.predict(X_test)\n",
    "test_accuracy = accuracy_score(y_test, y_pred)\n",
    "print('Test Accuracy:', test_accuracy)"
   ]
  },
  {
   "cell_type": "code",
   "execution_count": 23,
   "metadata": {},
   "outputs": [
    {
     "name": "stdout",
     "output_type": "stream",
     "text": [
      "Test Accuracy with Scaled Data: 0.8142857142857143\n",
      "Test Accuracy with Unscaled Data: 0.8142857142857143\n"
     ]
    }
   ],
   "source": [
    "# Create a pipeline with scaling and AdaBoost using the best parameters\n",
    "pipeline_scaled = Pipeline([\n",
    "    ('scaler', StandardScaler()),\n",
    "    ('adaboost', AdaBoostClassifier(n_estimators=best_params['adaboost__n_estimators'], \n",
    "                                    learning_rate=best_params['adaboost__learning_rate'], \n",
    "                                    random_state=123, \n",
    "                                    algorithm='SAMME'))\n",
    "])\n",
    "\n",
    "# Fit the pipeline with scaled data\n",
    "pipeline_scaled.fit(X_train, y_train)\n",
    "\n",
    "# Predict and evaluate the model with scaled data\n",
    "y_pred_scaled = pipeline_scaled.predict(X_test)\n",
    "accuracy_scaled = accuracy_score(y_test, y_pred_scaled)\n",
    "print('Test Accuracy with Scaled Data:', accuracy_scaled)\n",
    "\n",
    "# Create an AdaBoost model with the best parameters for unscaled data\n",
    "model_unscaled = AdaBoostClassifier(n_estimators=best_params['adaboost__n_estimators'], \n",
    "                                    learning_rate=best_params['adaboost__learning_rate'], \n",
    "                                    random_state=123, \n",
    "                                    algorithm='SAMME')\n",
    "\n",
    "# Fit the model with unscaled data\n",
    "model_unscaled.fit(X_train, y_train)\n",
    "\n",
    "# Predict and evaluate the model with unscaled data\n",
    "y_pred_unscaled = model_unscaled.predict(X_test)\n",
    "accuracy_unscaled = accuracy_score(y_test, y_pred_unscaled)\n",
    "print('Test Accuracy with Unscaled Data:', accuracy_unscaled)"
   ]
  },
  {
   "cell_type": "markdown",
   "metadata": {},
   "source": [
    "How about using Recursive Feature Elimination with Cross-Validation? (seemingly not either)"
   ]
  },
  {
   "cell_type": "code",
   "execution_count": 27,
   "metadata": {},
   "outputs": [
    {
     "name": "stdout",
     "output_type": "stream",
     "text": [
      "Selected features: ['employ', 'address', 'debtinc', 'creddebt', 'othdebt']\n",
      "\n",
      "Test Accuracy: 0.8142857142857143\n"
     ]
    }
   ],
   "source": [
    "from sklearn.feature_selection import RFECV\n",
    "from sklearn.pipeline import Pipeline\n",
    "from sklearn.model_selection import StratifiedKFold\n",
    "\n",
    "# Define the AdaBoost classifier with fixed hyperparameters\n",
    "adaboost = AdaBoostClassifier(\n",
    "    random_state=123,\n",
    "    algorithm='SAMME',\n",
    "    n_estimators=50,\n",
    "    learning_rate=0.5\n",
    ")\n",
    "\n",
    "# Create a pipeline with RFECV and AdaBoost\n",
    "pipeline = Pipeline([\n",
    "    ('rfe', RFECV(\n",
    "        estimator=adaboost,\n",
    "        step=1,\n",
    "        cv=StratifiedKFold(5),\n",
    "        scoring='accuracy'\n",
    "    )),\n",
    "    ('adaboost', adaboost)\n",
    "])\n",
    "\n",
    "# Fit the pipeline\n",
    "pipeline.fit(X_train, y_train)\n",
    "\n",
    "# Print selected features\n",
    "selected_features = X_train.columns[pipeline.named_steps['rfe'].support_].tolist()\n",
    "print('Selected features:', selected_features)\n",
    "\n",
    "# Make predictions and evaluate\n",
    "y_pred = pipeline.predict(X_test)\n",
    "test_accuracy = accuracy_score(y_test, y_pred)\n",
    "print('\\nTest Accuracy:', test_accuracy)"
   ]
  },
  {
   "cell_type": "markdown",
   "metadata": {},
   "source": [
    "# Linear SVC (Support Vector Classifier)"
   ]
  },
  {
   "cell_type": "code",
   "execution_count": null,
   "metadata": {},
   "outputs": [
    {
     "name": "stdout",
     "output_type": "stream",
     "text": [
      "Class Distribution:\n",
      "default\n",
      "0.0    415\n",
      "1.0    145\n",
      "Name: count, dtype: int64\n",
      "Fitting 5 folds for each of 32 candidates, totalling 160 fits\n"
     ]
    },
    {
     "name": "stderr",
     "output_type": "stream",
     "text": [
      "c:\\Users\\antho\\Anaconda3\\Lib\\site-packages\\sklearn\\model_selection\\_search.py:318: UserWarning: The total space of parameters 32 is smaller than n_iter=100. Running 32 iterations. For exhaustive searches, use GridSearchCV.\n",
      "  warnings.warn(\n"
     ]
    },
    {
     "name": "stdout",
     "output_type": "stream",
     "text": [
      "\n",
      "Best Parameters: {'svc__kernel': 'rbf', 'svc__gamma': 'scale', 'svc__C': 10}\n",
      "Best Cross-Validation Score: 0.6513086830078937\n",
      "\n",
      "Cross-Validation Scores: [0.6346074  0.62339011 0.68799335 0.6414624  0.66909015]\n",
      "Mean CV Score: 0.6513086830078937\n",
      "Standard Deviation: 0.023737205272851614\n",
      "\n",
      "Test Accuracy: 0.8\n",
      "\n",
      "Classification Report:\n",
      "              precision    recall  f1-score   support\n",
      "\n",
      "         0.0       0.81      0.95      0.87       102\n",
      "         1.0       0.75      0.39      0.52        38\n",
      "\n",
      "    accuracy                           0.80       140\n",
      "   macro avg       0.78      0.67      0.70       140\n",
      "weighted avg       0.79      0.80      0.78       140\n",
      "\n",
      "\n",
      "Confusion Matrix:\n",
      "[[97  5]\n",
      " [23 15]]\n",
      "\n",
      "ROC AUC Score: 0.7757997936016511\n",
      "\n",
      "Feature importance not available for non-linear kernels\n"
     ]
    }
   ],
   "source": [
    "from sklearn.model_selection import cross_val_score, StratifiedKFold\n",
    "from sklearn.preprocessing import StandardScaler\n",
    "from sklearn.pipeline import Pipeline\n",
    "from sklearn.svm import SVC\n",
    "from sklearn.metrics import classification_report, roc_auc_score\n",
    "from sklearn.model_selection import RandomizedSearchCV\n",
    "from scipy.stats import loguniform\n",
    "\n",
    "# Same train-test split from earlier\n",
    "X_train, X_test, y_train, y_test = train_test_split(X, y, test_size=0.2, random_state=42)\n",
    "\n",
    "# Check class distribution (0 - No Default, 1 - Default)\n",
    "print(\"Class Distribution:\")\n",
    "print(y_train.value_counts())\n",
    "\n",
    "# Create a pipeline with scaling and SVC\n",
    "pipeline = Pipeline([\n",
    "    ('scaler', StandardScaler()),\n",
    "    ('svc', SVC(probability=True, random_state=123))\n",
    "])\n",
    "\n",
    "# Hyperparameter grid\n",
    "# An approach with both GridSearchCV and RandomizedSearchCV\n",
    "param_dist = {\n",
    "    # 'svc__C': loguniform(1e-3, 1e3),  # Logarithmic scale for regularization\n",
    "    # 'svc__gamma': loguniform(1e-4, 1e1),  # Kernel coefficient\n",
    "    # 'svc__kernel': ['rbf', 'poly', 'sigmoid'],\n",
    "    'svc__C': [1e-3, 0.1, 1, 10],\n",
    "    'svc__kernel': ['linear', 'rbf', 'sigmoid', 'poly'],\n",
    "    'svc__gamma': ['scale', 'auto']\n",
    "}\n",
    "\n",
    "# Stratified K-Fold for robust cross-validation\n",
    "cv = StratifiedKFold(n_splits=5, shuffle=True, random_state=42)\n",
    "\n",
    "# Randomized Search for more efficient exploration\n",
    "random_search = RandomizedSearchCV(\n",
    "    estimator=pipeline, \n",
    "    param_distributions=param_dist,\n",
    "    n_iter=100,  # Number of parameter settings sampled\n",
    "    cv=cv,\n",
    "    scoring='balanced_accuracy',  # Better for imbalanced datasets\n",
    "    n_jobs=-1,\n",
    "    verbose=1,\n",
    "    random_state=42\n",
    ")\n",
    "\n",
    "# Fit the randomized search\n",
    "random_search.fit(X_train, y_train)\n",
    "\n",
    "# Best model details\n",
    "print('\\nBest Parameters:', random_search.best_params_)\n",
    "print('Best Cross-Validation Score:', random_search.best_score_)\n",
    "\n",
    "# Detailed performance evaluation\n",
    "best_model = random_search.best_estimator_\n",
    "\n",
    "# Perform cross-validation\n",
    "cv_scores = cross_val_score(best_model, X_train, y_train, cv=cv, scoring='balanced_accuracy')\n",
    "print('\\nCross-Validation Scores:', cv_scores)\n",
    "print('Mean CV Score:', cv_scores.mean())\n",
    "print('Standard Deviation:', cv_scores.std())\n",
    "\n",
    "# Predictions\n",
    "y_pred = best_model.predict(X_test)\n",
    "y_pred_proba = best_model.predict_proba(X_test)\n",
    "\n",
    "# Test accuracy\n",
    "svc_test_accuracy = accuracy_score(y_test, y_pred)\n",
    "print('\\nTest Accuracy:', svc_test_accuracy)\n",
    "\n",
    "# Comprehensive evaluation\n",
    "print('\\nClassification Report:')\n",
    "print(classification_report(y_test, y_pred))\n",
    "\n",
    "print('\\nConfusion Matrix:')\n",
    "print(confusion_matrix(y_test, y_pred))\n",
    "\n",
    "# ROC AUC for binary classification\n",
    "print('\\nROC AUC Score:', roc_auc_score(y_test, y_pred_proba[:, 1]))\n",
    "\n",
    "# Additional improvement strategies\n",
    "def feature_importance_analysis(model, X):\n",
    "    \"\"\"\n",
    "    Pseudo feature importance for linear kernels\n",
    "    \"\"\"\n",
    "    if model.named_steps['svc'].kernel == 'linear':\n",
    "        importances = np.abs(model.named_steps['svc'].coef_[0])\n",
    "        feature_imp = pd.DataFrame({\n",
    "            'feature': X.columns,\n",
    "            'importance': importances\n",
    "        }).sort_values('importance', ascending=False)\n",
    "        print(\"\\nFeature Importances:\")\n",
    "        print(feature_imp)\n",
    "    else:\n",
    "        print(\"\\nFeature importance not available for non-linear kernels\")\n",
    "\n",
    "# Analyze feature importances\n",
    "feature_importance_analysis(best_model, X)"
   ]
  },
  {
   "cell_type": "markdown",
   "metadata": {},
   "source": [
    "# Logistic Regression\n",
    "\n",
    "Looking at other notebooks predicting this dataset, it seems that logistic regression does a great job, so let's try it!"
   ]
  },
  {
   "cell_type": "code",
   "execution_count": 58,
   "metadata": {},
   "outputs": [
    {
     "name": "stdout",
     "output_type": "stream",
     "text": [
      "Fitting 5 folds for each of 48 candidates, totalling 240 fits\n",
      "Best Parameters: {'logistic__C': 1, 'logistic__class_weight': 'balanced', 'logistic__multi_class': 'ovr', 'logistic__penalty': 'l2', 'logistic__solver': 'saga'}\n",
      "Best Cross-Validation Score: 0.7753029635311189\n",
      "\n",
      "Cross-Validation Scores: [0.925      0.825      0.775      0.76190476 0.80952381]\n",
      "Mean CV Score: 0.8192857142857143\n",
      "Standard Deviation: 0.05754521046243149\n",
      "Test Accuracy: 0.8214285714285714\n",
      "\n",
      "Classification Report:\n",
      "              precision    recall  f1-score   support\n",
      "\n",
      "         0.0       0.92      0.82      0.87       102\n",
      "         1.0       0.63      0.82      0.71        38\n",
      "\n",
      "    accuracy                           0.82       140\n",
      "   macro avg       0.78      0.82      0.79       140\n",
      "weighted avg       0.84      0.82      0.83       140\n",
      "\n",
      "\n",
      "Confusion Matrix:\n",
      "[[84 18]\n",
      " [ 7 31]]\n",
      "\n",
      "ROC AUC Score: 0.9120227038183695\n",
      "\n",
      "Feature Coefficients:\n",
      "    feature  coefficient\n",
      "2    employ    -1.609991\n",
      "6  creddebt     1.211750\n",
      "3   address    -0.663075\n",
      "5   debtinc     0.512875\n",
      "4    income    -0.289869\n",
      "0       age     0.270185\n",
      "7   othdebt     0.114806\n",
      "1        ed     0.113233\n"
     ]
    },
    {
     "name": "stderr",
     "output_type": "stream",
     "text": [
      "c:\\Users\\antho\\Anaconda3\\Lib\\site-packages\\sklearn\\linear_model\\_sag.py:350: ConvergenceWarning: The max_iter was reached which means the coef_ did not converge\n",
      "  warnings.warn(\n",
      "c:\\Users\\antho\\Anaconda3\\Lib\\site-packages\\sklearn\\linear_model\\_sag.py:350: ConvergenceWarning: The max_iter was reached which means the coef_ did not converge\n",
      "  warnings.warn(\n",
      "c:\\Users\\antho\\Anaconda3\\Lib\\site-packages\\sklearn\\linear_model\\_sag.py:350: ConvergenceWarning: The max_iter was reached which means the coef_ did not converge\n",
      "  warnings.warn(\n",
      "c:\\Users\\antho\\Anaconda3\\Lib\\site-packages\\sklearn\\linear_model\\_sag.py:350: ConvergenceWarning: The max_iter was reached which means the coef_ did not converge\n",
      "  warnings.warn(\n"
     ]
    }
   ],
   "source": [
    "from sklearn.linear_model import LogisticRegression\n",
    "\n",
    "# Same train-test split from earlier\n",
    "X_train, X_test, y_train, y_test = train_test_split(X, y, test_size=0.2, random_state=42)\n",
    "\n",
    "# Create a pipeline with scaling and logistic regression\n",
    "pipeline = Pipeline([\n",
    "    ('scaler', StandardScaler()),\n",
    "    ('logistic', LogisticRegression(random_state=123))\n",
    "])\n",
    "\n",
    "# Comprehensive parameter grid\n",
    "param_grid = {\n",
    "    # Regularization type\n",
    "    'logistic__penalty': ['l1', 'l2'],\n",
    "    \n",
    "    # Regularization strength\n",
    "    'logistic__C': [0.001, 0.01, 0.1, 1, 10, 100],\n",
    "    \n",
    "    # Solver (matches penalty types)\n",
    "    'logistic__solver': ['liblinear', 'saga'],\n",
    "    \n",
    "    # Class balancing\n",
    "    'logistic__class_weight': [None, 'balanced'],\n",
    "    \n",
    "    # Multiclass strategy\n",
    "    'logistic__multi_class': ['ovr']\n",
    "}\n",
    "\n",
    "# Stratified K-Fold for robust cross-validation\n",
    "cv = StratifiedKFold(n_splits=5, shuffle=True, random_state=42)\n",
    "\n",
    "# Grid Search\n",
    "grid_search = GridSearchCV(\n",
    "    estimator=pipeline, \n",
    "    param_grid=param_grid, \n",
    "    cv=cv,\n",
    "    scoring='balanced_accuracy',  # Good for imbalanced datasets\n",
    "    n_jobs=-1,  # Use all available cores\n",
    "    verbose=1  # Show progress\n",
    ")\n",
    "\n",
    "# Fit the grid search\n",
    "grid_search.fit(X, y)\n",
    "\n",
    "# Best model details\n",
    "print('Best Parameters:', grid_search.best_params_)\n",
    "print('Best Cross-Validation Score:', grid_search.best_score_)\n",
    "\n",
    "# Get the best model\n",
    "best_model = grid_search.best_estimator_\n",
    "\n",
    "# Perform cross-validation\n",
    "from sklearn.model_selection import cross_val_score\n",
    "cv_scores = cross_val_score(best_model, X_test, y_test, cv=cv, scoring='balanced_accuracy')\n",
    "print('\\nCross-Validation Scores:', cv_scores)\n",
    "print('Mean CV Score:', cv_scores.mean())\n",
    "print('Standard Deviation:', cv_scores.std())\n",
    "\n",
    "# Predictions\n",
    "y_pred = best_model.predict(X_test)\n",
    "y_pred_proba = best_model.predict_proba(X_test)\n",
    "\n",
    "# Test accuracy\n",
    "log_regression_test_accuracy = accuracy_score(y_test, y_pred)\n",
    "print('Test Accuracy:', log_regression_test_accuracy)\n",
    "\n",
    "# Comprehensive evaluation\n",
    "print('\\nClassification Report:')\n",
    "print(classification_report(y_test, y_pred))\n",
    "\n",
    "print('\\nConfusion Matrix:')\n",
    "print(confusion_matrix(y_test, y_pred))\n",
    "\n",
    "# ROC AUC for binary classification\n",
    "print('\\nROC AUC Score:', roc_auc_score(y_test, y_pred_proba[:, 1]))\n",
    "\n",
    "# Feature coefficients (for interpretability)\n",
    "if hasattr(best_model.named_steps['logistic'], 'coef_'):\n",
    "    feature_importance = pd.DataFrame({\n",
    "        'feature': X.columns,\n",
    "        'coefficient': best_model.named_steps['logistic'].coef_[0]\n",
    "    }).sort_values('coefficient', key=abs, ascending=False)\n",
    "    \n",
    "    print('\\nFeature Coefficients:')\n",
    "    print(feature_importance)"
   ]
  },
  {
   "cell_type": "markdown",
   "metadata": {},
   "source": [
    "# Let's compare their accuracies"
   ]
  },
  {
   "cell_type": "code",
   "execution_count": 60,
   "metadata": {},
   "outputs": [
    {
     "name": "stdout",
     "output_type": "stream",
     "text": [
      "AdaBoost Classifier Test Accuracy: 0.8214285714285714\n",
      "SVC Test Accuracy: 0.8\n",
      "Logistic Regression Test Accuracy: 0.8214285714285714\n"
     ]
    },
    {
     "data": {
      "image/png": "[encoded data removed]",
      "text/plain": [
       "<Figure size 1000x600 with 1 Axes>"
      ]
     },
     "metadata": {},
     "output_type": "display_data"
    }
   ],
   "source": [
    "import matplotlib.pyplot as plt\n",
    "\n",
    "print('AdaBoost Classifier Test Accuracy:', adaboost_accuracy)\n",
    "print('SVC Test Accuracy:', svc_test_accuracy)\n",
    "print('Logistic Regression Test Accuracy:', log_regression_test_accuracy)\n",
    "\n",
    "# Create a bar plot\n",
    "plt.figure(figsize=(10, 6))\n",
    "models = ['AdaBoost', 'SVC', 'Logistic Regression']\n",
    "accuracies = [adaboost_accuracy, svc_test_accuracy, log_regression_test_accuracy]\n",
    "colors = ['skyblue', 'orange', 'lightgreen']\n",
    "\n",
    "plt.bar(models, accuracies, color=colors)\n",
    "plt.ylabel('Accuracy')\n",
    "plt.title('Model Comparison')\n",
    "plt.ylim(0.7, 0.9)\n",
    "plt.show()"
   ]
  }
 ],
 "metadata": {
  "kernelspec": {
   "display_name": "base",
   "language": "python",
   "name": "python3"
  },
  "language_info": {
   "codemirror_mode": {
    "name": "ipython",
    "version": 3
   },
   "file_extension": ".py",
   "mimetype": "text/x-python",
   "name": "python",
   "nbconvert_exporter": "python",
   "pygments_lexer": "ipython3",
   "version": "3.12.4"
  }
 },
 "nbformat": 4,
 "nbformat_minor": 2
}
